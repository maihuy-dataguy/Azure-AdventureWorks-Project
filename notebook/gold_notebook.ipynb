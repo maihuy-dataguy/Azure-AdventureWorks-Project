{
 "cells": [
  {
   "cell_type": "code",
   "execution_count": 0,
   "metadata": {
    "application/vnd.databricks.v1+cell": {
     "cellMetadata": {
      "byteLimit": 2048000,
      "rowLimit": 10000
     },
     "inputWidgets": {},
     "nuid": "9be9f9a0-d287-4e8d-a024-80ddd247d5bb",
     "showTitle": false,
     "tableResultSettingsMap": {},
     "title": ""
    }
   },
   "outputs": [],
   "source": [
    "from pyspark.sql.functions import *\n",
    "from pyspark.sql.types import *"
   ]
  },
  {
   "cell_type": "code",
   "execution_count": 0,
   "metadata": {
    "application/vnd.databricks.v1+cell": {
     "cellMetadata": {
      "byteLimit": 2048000,
      "rowLimit": 10000
     },
     "inputWidgets": {},
     "nuid": "490e59ab-5df3-4dbe-9cae-4669062e98a9",
     "showTitle": false,
     "tableResultSettingsMap": {},
     "title": ""
    }
   },
   "outputs": [],
   "source": [
    "service_credential = dbutils.secrets.get(scope=\"ConnectAzureDataLake\",key=\"service-principle-secret\")\n",
    "\n",
    "spark.conf.set(\"fs.azure.account.auth.type.awstoragehuym.dfs.core.windows.net\", \"OAuth\")\n",
    "spark.conf.set(\"fs.azure.account.oauth.provider.type.awstoragehuym.dfs.core.windows.net\", \"org.apache.hadoop.fs.azurebfs.oauth2.ClientCredsTokenProvider\")\n",
    "spark.conf.set(\"fs.azure.account.oauth2.client.id.awstoragehuym.dfs.core.windows.net\", \"11a8a387-57ba-4127-9e06-e32ae0105b24\")\n",
    "spark.conf.set(\"fs.azure.account.oauth2.client.secret.awstoragehuym.dfs.core.windows.net\", service_credential)\n",
    "spark.conf.set(\"fs.azure.account.oauth2.client.endpoint.awstoragehuym.dfs.core.windows.net\", \"https://login.microsoftonline.com/b1a9fdc0-1d56-4c3d-a481-809fff8a26db/oauth2/token\")"
   ]
  },
  {
   "cell_type": "code",
   "execution_count": 0,
   "metadata": {
    "application/vnd.databricks.v1+cell": {
     "cellMetadata": {
      "byteLimit": 2048000,
      "rowLimit": 10000
     },
     "inputWidgets": {},
     "nuid": "fffa36f1-d904-48b1-a65c-3c13f7d032c9",
     "showTitle": false,
     "tableResultSettingsMap": {},
     "title": ""
    }
   },
   "outputs": [
    {
     "output_type": "execute_result",
     "data": {
      "text/plain": [
       "[FileInfo(path='abfss://silver@awstoragehuym.dfs.core.windows.net/AdventureWorks_Calendar/', name='AdventureWorks_Calendar/', size=0, modificationTime=1737019805000),\n",
       " FileInfo(path='abfss://silver@awstoragehuym.dfs.core.windows.net/AdventureWorks_Customers/', name='AdventureWorks_Customers/', size=0, modificationTime=1737020471000),\n",
       " FileInfo(path='abfss://silver@awstoragehuym.dfs.core.windows.net/AdventureWorks_Products/', name='AdventureWorks_Products/', size=0, modificationTime=1737022311000),\n",
       " FileInfo(path='abfss://silver@awstoragehuym.dfs.core.windows.net/AdventureWorks_Returns/', name='AdventureWorks_Returns/', size=0, modificationTime=1737022451000),\n",
       " FileInfo(path='abfss://silver@awstoragehuym.dfs.core.windows.net/AdventureWorks_Sales/', name='AdventureWorks_Sales/', size=0, modificationTime=1737024819000),\n",
       " FileInfo(path='abfss://silver@awstoragehuym.dfs.core.windows.net/AdventureWorks_Subcategories/', name='AdventureWorks_Subcategories/', size=0, modificationTime=1737020558000),\n",
       " FileInfo(path='abfss://silver@awstoragehuym.dfs.core.windows.net/AdventureWorks_Territories/', name='AdventureWorks_Territories/', size=0, modificationTime=1737022609000)]"
      ]
     },
     "execution_count": 4,
     "metadata": {},
     "output_type": "execute_result"
    }
   ],
   "source": [
    "dbutils.fs.ls(\"abfss://silver@awstoragehuym.dfs.core.windows.net/\")"
   ]
  },
  {
   "cell_type": "code",
   "execution_count": 0,
   "metadata": {
    "application/vnd.databricks.v1+cell": {
     "cellMetadata": {
      "byteLimit": 2048000,
      "rowLimit": 10000
     },
     "inputWidgets": {},
     "nuid": "1919f3ef-90d8-46d5-b555-c3e2de43ca81",
     "showTitle": false,
     "tableResultSettingsMap": {},
     "title": ""
    }
   },
   "outputs": [],
   "source": [
    "table_name = []\n",
    "\n",
    "for i in dbutils.fs.ls('abfss://silver@awstoragehuym.dfs.core.windows.net/'):\n",
    "    table_name.append(i.name.split('/')[0])"
   ]
  },
  {
   "cell_type": "code",
   "execution_count": 0,
   "metadata": {
    "application/vnd.databricks.v1+cell": {
     "cellMetadata": {
      "byteLimit": 2048000,
      "rowLimit": 10000
     },
     "inputWidgets": {},
     "nuid": "9e35a9f6-a617-4ed6-96ad-d8f1849ea4f4",
     "showTitle": false,
     "tableResultSettingsMap": {},
     "title": ""
    }
   },
   "outputs": [
    {
     "output_type": "execute_result",
     "data": {
      "text/plain": [
       "['AdventureWorks_Calendar',\n",
       " 'AdventureWorks_Customers',\n",
       " 'AdventureWorks_Products',\n",
       " 'AdventureWorks_Returns',\n",
       " 'AdventureWorks_Sales',\n",
       " 'AdventureWorks_Subcategories',\n",
       " 'AdventureWorks_Territories']"
      ]
     },
     "execution_count": 27,
     "metadata": {},
     "output_type": "execute_result"
    }
   ],
   "source": [
    "table_name"
   ]
  },
  {
   "cell_type": "code",
   "execution_count": 0,
   "metadata": {
    "application/vnd.databricks.v1+cell": {
     "cellMetadata": {
      "byteLimit": 2048000,
      "rowLimit": 10000
     },
     "inputWidgets": {},
     "nuid": "d1a7f51f-1b72-4878-abdd-3e1be121a176",
     "showTitle": false,
     "tableResultSettingsMap": {},
     "title": ""
    }
   },
   "outputs": [
    {
     "output_type": "stream",
     "name": "stdout",
     "output_type": "stream",
     "text": [
      "abfss://silver@awstoragehuym.dfs.core.windows.net/AdventureWorks_Calendar\nabfss://silver@awstoragehuym.dfs.core.windows.net/AdventureWorks_Customers\nabfss://silver@awstoragehuym.dfs.core.windows.net/AdventureWorks_Products\nabfss://silver@awstoragehuym.dfs.core.windows.net/AdventureWorks_Returns\nabfss://silver@awstoragehuym.dfs.core.windows.net/AdventureWorks_Sales\nabfss://silver@awstoragehuym.dfs.core.windows.net/AdventureWorks_Subcategories\nabfss://silver@awstoragehuym.dfs.core.windows.net/AdventureWorks_Territories\n"
     ]
    }
   ],
   "source": [
    "for name in table_name:\n",
    "    path = 'abfss://silver@awstoragehuym.dfs.core.windows.net/' + name\n",
    "    print(path)\n",
    "    df = spark.read.format(\"parquet\")\\\n",
    "    .option(\"header\", \"true\")\\\n",
    "    .option(\"inferSchema\", \"true\")\\\n",
    "    .load(path)\n",
    "\n",
    "    output_path = 'abfss://gold@awstoragehuym.dfs.core.windows.net/' + name + '/'\n",
    "    df.write.format('parquet').mode('overwrite').save(output_path)"
   ]
  },
  {
   "cell_type": "code",
   "execution_count": 0,
   "metadata": {
    "application/vnd.databricks.v1+cell": {
     "cellMetadata": {},
     "inputWidgets": {},
     "nuid": "e287e9e9-dc4f-4de0-8ddd-fbde8b73c99a",
     "showTitle": false,
     "tableResultSettingsMap": {},
     "title": ""
    }
   },
   "outputs": [],
   "source": [
    "    "
   ]
  }
 ],
 "metadata": {
  "application/vnd.databricks.v1+notebook": {
   "computePreferences": null,
   "dashboards": [],
   "environmentMetadata": {
    "base_environment": "",
    "client": "1"
   },
   "language": "python",
   "notebookMetadata": {
    "pythonIndentUnit": 4
   },
   "notebookName": "gold_notebook",
   "widgets": {}
  },
  "language_info": {
   "name": "python"
  }
 },
 "nbformat": 4,
 "nbformat_minor": 0
}